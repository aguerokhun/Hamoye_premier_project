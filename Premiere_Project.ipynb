{
  "nbformat": 4,
  "nbformat_minor": 0,
  "metadata": {
    "colab": {
      "provenance": [],
      "toc_visible": true
    },
    "kernelspec": {
      "name": "python3",
      "display_name": "Python 3"
    },
    "language_info": {
      "name": "python"
    }
  },
  "cells": [
    {
      "cell_type": "code",
      "execution_count": 1,
      "metadata": {
        "id": "kYVYte3RhkFq"
      },
      "outputs": [],
      "source": [
        "# Import necessary libraries\n",
        "import pandas as pd\n",
        "import numpy as np\n"
      ]
    },
    {
      "cell_type": "markdown",
      "source": [
        "# Load Data"
      ],
      "metadata": {
        "id": "RoXXSdhxjfOt"
      }
    },
    {
      "cell_type": "code",
      "source": [
        "# Load the dataset from an Excel file\n",
        "data = pd.read_excel('proj_data.xlsx')\n",
        "\n",
        "# Check the first few rows of the dataset to ensure it loaded correctly\n",
        "print(data.head())"
      ],
      "metadata": {
        "colab": {
          "base_uri": "https://localhost:8080/"
        },
        "id": "W1B2447BjSiZ",
        "outputId": "ca4d32ee-2770-4b03-dd66-180a7536a4eb"
      },
      "execution_count": 2,
      "outputs": [
        {
          "output_type": "stream",
          "name": "stdout",
          "text": [
            "          DisNo. Historic Classification Key Disaster Group Disaster Subgroup  \\\n",
            "0  1999-9388-DJI       No    nat-cli-dro-dro        Natural    Climatological   \n",
            "1  1999-9388-SDN       No    nat-cli-dro-dro        Natural    Climatological   \n",
            "2  1999-9388-SOM       No    nat-cli-dro-dro        Natural    Climatological   \n",
            "3  2000-9309-MDG       No    nat-cli-dro-dro        Natural    Climatological   \n",
            "4  2001-9044-BFA       No    nat-cli-dro-dro        Natural    Climatological   \n",
            "\n",
            "  Disaster Type Disaster Subtype External IDs  Event Name  ISO  ...  \\\n",
            "0       Drought          Drought          NaN         NaN  DJI  ...   \n",
            "1       Drought          Drought          NaN         NaN  SDN  ...   \n",
            "2       Drought          Drought          NaN         NaN  SOM  ...   \n",
            "3       Drought          Drought          NaN         NaN  MDG  ...   \n",
            "4       Drought          Drought          NaN         NaN  BFA  ...   \n",
            "\n",
            "  Reconstruction Costs ('000 US$) Reconstruction Costs, Adjusted ('000 US$)  \\\n",
            "0                             NaN                                       NaN   \n",
            "1                             NaN                                       NaN   \n",
            "2                             NaN                                       NaN   \n",
            "3                             NaN                                       NaN   \n",
            "4                             NaN                                       NaN   \n",
            "\n",
            "  Insured Damage ('000 US$) Insured Damage, Adjusted ('000 US$)  \\\n",
            "0                       NaN                                 NaN   \n",
            "1                       NaN                                 NaN   \n",
            "2                       NaN                                 NaN   \n",
            "3                       NaN                                 NaN   \n",
            "4                       NaN                                 NaN   \n",
            "\n",
            "  Total Damage ('000 US$) Total Damage, Adjusted ('000 US$)        CPI  \\\n",
            "0                     NaN                               NaN  60.503579   \n",
            "1                     NaN                               NaN  58.840648   \n",
            "2                     NaN                               NaN  58.840648   \n",
            "3                     NaN                               NaN  58.840648   \n",
            "4                     NaN                               NaN  60.503579   \n",
            "\n",
            "                                         Admin Units  Entry Date  Last Update  \n",
            "0  [{\"adm1_code\":1093,\"adm1_name\":\"Ali Sabieh\"},{...  2006-03-01   2023-09-25  \n",
            "1  [{\"adm1_code\":2757,\"adm1_name\":\"Northern Darfu...  2006-03-08   2023-09-25  \n",
            "2  [{\"adm1_code\":2691,\"adm1_name\":\"Bay\"},{\"adm1_c...  2006-03-08   2023-09-25  \n",
            "3  [{\"adm2_code\":154509,\"adm2_name\":\"Ambatondraza...  2008-01-03   2023-09-25  \n",
            "4  [{\"adm1_code\":40286,\"adm1_name\":\"Plateau Centr...  2006-10-26   2023-09-25  \n",
            "\n",
            "[5 rows x 46 columns]\n"
          ]
        }
      ]
    },
    {
      "cell_type": "markdown",
      "source": [
        "# Preprocessing"
      ],
      "metadata": {
        "id": "ZAEvF13UmGAm"
      }
    },
    {
      "cell_type": "code",
      "source": [
        "#Drop columns with more than half missing values\n",
        "data.drop(columns = [i for i in data.columns if (data[i].isna().sum() > data[i].count()/2) == True], inplace = True)"
      ],
      "metadata": {
        "id": "Vt2VyVpDjSlc"
      },
      "execution_count": 3,
      "outputs": []
    },
    {
      "cell_type": "code",
      "source": [
        "data.columns"
      ],
      "metadata": {
        "colab": {
          "base_uri": "https://localhost:8080/"
        },
        "id": "Au5D6PpEmiVe",
        "outputId": "6d16b6ce-557d-4ce3-8db1-ec2900fe5eb7"
      },
      "execution_count": 4,
      "outputs": [
        {
          "output_type": "execute_result",
          "data": {
            "text/plain": [
              "Index(['DisNo.', 'Historic', 'Classification Key', 'Disaster Group',\n",
              "       'Disaster Subgroup', 'Disaster Type', 'Disaster Subtype', 'ISO',\n",
              "       'Country', 'Subregion', 'Region', 'Location', 'Associated Types',\n",
              "       'OFDA Response', 'Appeal', 'Declaration', 'Magnitude Scale',\n",
              "       'Start Year', 'Start Month', 'End Year', 'No. Affected',\n",
              "       'Total Affected', 'CPI', 'Admin Units', 'Entry Date', 'Last Update'],\n",
              "      dtype='object')"
            ]
          },
          "metadata": {},
          "execution_count": 4
        }
      ]
    },
    {
      "cell_type": "code",
      "source": [
        "# Categorical data to drop\n",
        "\n",
        "## Feel free to exclude any variable if you can justify the need\n",
        "categorical_vars = ['Classification Key',\n",
        "    'DisNo.',\n",
        "    'Historic',\n",
        "    'Disaster Group',\n",
        "    'Disaster Subgroup',\n",
        "    'Disaster Type',\n",
        "    'Disaster Subtype',\n",
        "    'ISO',\n",
        "    'Region',\n",
        "    'Location',\n",
        "    'Magnitude Scale',\n",
        "    'Admin Units',\n",
        "    'Entry Date',\n",
        "    'Last Update'\n",
        "]\n",
        "\n",
        "data = data.drop(columns=categorical_vars)\n"
      ],
      "metadata": {
        "id": "wJdkyzmUnVmr"
      },
      "execution_count": 5,
      "outputs": []
    },
    {
      "cell_type": "code",
      "source": [
        "data.head()"
      ],
      "metadata": {
        "colab": {
          "base_uri": "https://localhost:8080/",
          "height": 310
        },
        "id": "UAy9k7YxpMLC",
        "outputId": "2347dd45-863a-4038-a0ba-c147dc3bd437"
      },
      "execution_count": 6,
      "outputs": [
        {
          "output_type": "execute_result",
          "data": {
            "text/plain": [
              "        Country           Subregion              Associated Types  \\\n",
              "0      Djibouti  Sub-Saharan Africa                           NaN   \n",
              "1         Sudan     Northern Africa  Food shortage|Water shortage   \n",
              "2       Somalia  Sub-Saharan Africa                 Food shortage   \n",
              "3    Madagascar  Sub-Saharan Africa                           NaN   \n",
              "4  Burkina Faso  Sub-Saharan Africa                           NaN   \n",
              "\n",
              "  OFDA Response Appeal Declaration  Start Year  Start Month  End Year  \\\n",
              "0           Yes     No          No        2001          6.0      2001   \n",
              "1            No     No          No        2000          1.0      2001   \n",
              "2            No     No          No        2000          1.0      2001   \n",
              "3            No     No          No        2000          6.0      2000   \n",
              "4            No     No          No        2001          4.0      2001   \n",
              "\n",
              "   No. Affected  Total Affected        CPI  \n",
              "0      100000.0        100000.0  60.503579  \n",
              "1     2000000.0       2000000.0  58.840648  \n",
              "2     1200000.0       1200000.0  58.840648  \n",
              "3      231290.0        231290.0  58.840648  \n",
              "4           NaN             NaN  60.503579  "
            ],
            "text/html": [
              "\n",
              "  <div id=\"df-0a3fd92d-e22b-4ae4-a6d9-c1821548cc71\" class=\"colab-df-container\">\n",
              "    <div>\n",
              "<style scoped>\n",
              "    .dataframe tbody tr th:only-of-type {\n",
              "        vertical-align: middle;\n",
              "    }\n",
              "\n",
              "    .dataframe tbody tr th {\n",
              "        vertical-align: top;\n",
              "    }\n",
              "\n",
              "    .dataframe thead th {\n",
              "        text-align: right;\n",
              "    }\n",
              "</style>\n",
              "<table border=\"1\" class=\"dataframe\">\n",
              "  <thead>\n",
              "    <tr style=\"text-align: right;\">\n",
              "      <th></th>\n",
              "      <th>Country</th>\n",
              "      <th>Subregion</th>\n",
              "      <th>Associated Types</th>\n",
              "      <th>OFDA Response</th>\n",
              "      <th>Appeal</th>\n",
              "      <th>Declaration</th>\n",
              "      <th>Start Year</th>\n",
              "      <th>Start Month</th>\n",
              "      <th>End Year</th>\n",
              "      <th>No. Affected</th>\n",
              "      <th>Total Affected</th>\n",
              "      <th>CPI</th>\n",
              "    </tr>\n",
              "  </thead>\n",
              "  <tbody>\n",
              "    <tr>\n",
              "      <th>0</th>\n",
              "      <td>Djibouti</td>\n",
              "      <td>Sub-Saharan Africa</td>\n",
              "      <td>NaN</td>\n",
              "      <td>Yes</td>\n",
              "      <td>No</td>\n",
              "      <td>No</td>\n",
              "      <td>2001</td>\n",
              "      <td>6.0</td>\n",
              "      <td>2001</td>\n",
              "      <td>100000.0</td>\n",
              "      <td>100000.0</td>\n",
              "      <td>60.503579</td>\n",
              "    </tr>\n",
              "    <tr>\n",
              "      <th>1</th>\n",
              "      <td>Sudan</td>\n",
              "      <td>Northern Africa</td>\n",
              "      <td>Food shortage|Water shortage</td>\n",
              "      <td>No</td>\n",
              "      <td>No</td>\n",
              "      <td>No</td>\n",
              "      <td>2000</td>\n",
              "      <td>1.0</td>\n",
              "      <td>2001</td>\n",
              "      <td>2000000.0</td>\n",
              "      <td>2000000.0</td>\n",
              "      <td>58.840648</td>\n",
              "    </tr>\n",
              "    <tr>\n",
              "      <th>2</th>\n",
              "      <td>Somalia</td>\n",
              "      <td>Sub-Saharan Africa</td>\n",
              "      <td>Food shortage</td>\n",
              "      <td>No</td>\n",
              "      <td>No</td>\n",
              "      <td>No</td>\n",
              "      <td>2000</td>\n",
              "      <td>1.0</td>\n",
              "      <td>2001</td>\n",
              "      <td>1200000.0</td>\n",
              "      <td>1200000.0</td>\n",
              "      <td>58.840648</td>\n",
              "    </tr>\n",
              "    <tr>\n",
              "      <th>3</th>\n",
              "      <td>Madagascar</td>\n",
              "      <td>Sub-Saharan Africa</td>\n",
              "      <td>NaN</td>\n",
              "      <td>No</td>\n",
              "      <td>No</td>\n",
              "      <td>No</td>\n",
              "      <td>2000</td>\n",
              "      <td>6.0</td>\n",
              "      <td>2000</td>\n",
              "      <td>231290.0</td>\n",
              "      <td>231290.0</td>\n",
              "      <td>58.840648</td>\n",
              "    </tr>\n",
              "    <tr>\n",
              "      <th>4</th>\n",
              "      <td>Burkina Faso</td>\n",
              "      <td>Sub-Saharan Africa</td>\n",
              "      <td>NaN</td>\n",
              "      <td>No</td>\n",
              "      <td>No</td>\n",
              "      <td>No</td>\n",
              "      <td>2001</td>\n",
              "      <td>4.0</td>\n",
              "      <td>2001</td>\n",
              "      <td>NaN</td>\n",
              "      <td>NaN</td>\n",
              "      <td>60.503579</td>\n",
              "    </tr>\n",
              "  </tbody>\n",
              "</table>\n",
              "</div>\n",
              "    <div class=\"colab-df-buttons\">\n",
              "\n",
              "  <div class=\"colab-df-container\">\n",
              "    <button class=\"colab-df-convert\" onclick=\"convertToInteractive('df-0a3fd92d-e22b-4ae4-a6d9-c1821548cc71')\"\n",
              "            title=\"Convert this dataframe to an interactive table.\"\n",
              "            style=\"display:none;\">\n",
              "\n",
              "  <svg xmlns=\"http://www.w3.org/2000/svg\" height=\"24px\" viewBox=\"0 -960 960 960\">\n",
              "    <path d=\"M120-120v-720h720v720H120Zm60-500h600v-160H180v160Zm220 220h160v-160H400v160Zm0 220h160v-160H400v160ZM180-400h160v-160H180v160Zm440 0h160v-160H620v160ZM180-180h160v-160H180v160Zm440 0h160v-160H620v160Z\"/>\n",
              "  </svg>\n",
              "    </button>\n",
              "\n",
              "  <style>\n",
              "    .colab-df-container {\n",
              "      display:flex;\n",
              "      gap: 12px;\n",
              "    }\n",
              "\n",
              "    .colab-df-convert {\n",
              "      background-color: #E8F0FE;\n",
              "      border: none;\n",
              "      border-radius: 50%;\n",
              "      cursor: pointer;\n",
              "      display: none;\n",
              "      fill: #1967D2;\n",
              "      height: 32px;\n",
              "      padding: 0 0 0 0;\n",
              "      width: 32px;\n",
              "    }\n",
              "\n",
              "    .colab-df-convert:hover {\n",
              "      background-color: #E2EBFA;\n",
              "      box-shadow: 0px 1px 2px rgba(60, 64, 67, 0.3), 0px 1px 3px 1px rgba(60, 64, 67, 0.15);\n",
              "      fill: #174EA6;\n",
              "    }\n",
              "\n",
              "    .colab-df-buttons div {\n",
              "      margin-bottom: 4px;\n",
              "    }\n",
              "\n",
              "    [theme=dark] .colab-df-convert {\n",
              "      background-color: #3B4455;\n",
              "      fill: #D2E3FC;\n",
              "    }\n",
              "\n",
              "    [theme=dark] .colab-df-convert:hover {\n",
              "      background-color: #434B5C;\n",
              "      box-shadow: 0px 1px 3px 1px rgba(0, 0, 0, 0.15);\n",
              "      filter: drop-shadow(0px 1px 2px rgba(0, 0, 0, 0.3));\n",
              "      fill: #FFFFFF;\n",
              "    }\n",
              "  </style>\n",
              "\n",
              "    <script>\n",
              "      const buttonEl =\n",
              "        document.querySelector('#df-0a3fd92d-e22b-4ae4-a6d9-c1821548cc71 button.colab-df-convert');\n",
              "      buttonEl.style.display =\n",
              "        google.colab.kernel.accessAllowed ? 'block' : 'none';\n",
              "\n",
              "      async function convertToInteractive(key) {\n",
              "        const element = document.querySelector('#df-0a3fd92d-e22b-4ae4-a6d9-c1821548cc71');\n",
              "        const dataTable =\n",
              "          await google.colab.kernel.invokeFunction('convertToInteractive',\n",
              "                                                    [key], {});\n",
              "        if (!dataTable) return;\n",
              "\n",
              "        const docLinkHtml = 'Like what you see? Visit the ' +\n",
              "          '<a target=\"_blank\" href=https://colab.research.google.com/notebooks/data_table.ipynb>data table notebook</a>'\n",
              "          + ' to learn more about interactive tables.';\n",
              "        element.innerHTML = '';\n",
              "        dataTable['output_type'] = 'display_data';\n",
              "        await google.colab.output.renderOutput(dataTable, element);\n",
              "        const docLink = document.createElement('div');\n",
              "        docLink.innerHTML = docLinkHtml;\n",
              "        element.appendChild(docLink);\n",
              "      }\n",
              "    </script>\n",
              "  </div>\n",
              "\n",
              "\n",
              "<div id=\"df-301f0874-673e-4321-8141-2ec47e0253c5\">\n",
              "  <button class=\"colab-df-quickchart\" onclick=\"quickchart('df-301f0874-673e-4321-8141-2ec47e0253c5')\"\n",
              "            title=\"Suggest charts.\"\n",
              "            style=\"display:none;\">\n",
              "\n",
              "<svg xmlns=\"http://www.w3.org/2000/svg\" height=\"24px\"viewBox=\"0 0 24 24\"\n",
              "     width=\"24px\">\n",
              "    <g>\n",
              "        <path d=\"M19 3H5c-1.1 0-2 .9-2 2v14c0 1.1.9 2 2 2h14c1.1 0 2-.9 2-2V5c0-1.1-.9-2-2-2zM9 17H7v-7h2v7zm4 0h-2V7h2v10zm4 0h-2v-4h2v4z\"/>\n",
              "    </g>\n",
              "</svg>\n",
              "  </button>\n",
              "\n",
              "<style>\n",
              "  .colab-df-quickchart {\n",
              "      --bg-color: #E8F0FE;\n",
              "      --fill-color: #1967D2;\n",
              "      --hover-bg-color: #E2EBFA;\n",
              "      --hover-fill-color: #174EA6;\n",
              "      --disabled-fill-color: #AAA;\n",
              "      --disabled-bg-color: #DDD;\n",
              "  }\n",
              "\n",
              "  [theme=dark] .colab-df-quickchart {\n",
              "      --bg-color: #3B4455;\n",
              "      --fill-color: #D2E3FC;\n",
              "      --hover-bg-color: #434B5C;\n",
              "      --hover-fill-color: #FFFFFF;\n",
              "      --disabled-bg-color: #3B4455;\n",
              "      --disabled-fill-color: #666;\n",
              "  }\n",
              "\n",
              "  .colab-df-quickchart {\n",
              "    background-color: var(--bg-color);\n",
              "    border: none;\n",
              "    border-radius: 50%;\n",
              "    cursor: pointer;\n",
              "    display: none;\n",
              "    fill: var(--fill-color);\n",
              "    height: 32px;\n",
              "    padding: 0;\n",
              "    width: 32px;\n",
              "  }\n",
              "\n",
              "  .colab-df-quickchart:hover {\n",
              "    background-color: var(--hover-bg-color);\n",
              "    box-shadow: 0 1px 2px rgba(60, 64, 67, 0.3), 0 1px 3px 1px rgba(60, 64, 67, 0.15);\n",
              "    fill: var(--button-hover-fill-color);\n",
              "  }\n",
              "\n",
              "  .colab-df-quickchart-complete:disabled,\n",
              "  .colab-df-quickchart-complete:disabled:hover {\n",
              "    background-color: var(--disabled-bg-color);\n",
              "    fill: var(--disabled-fill-color);\n",
              "    box-shadow: none;\n",
              "  }\n",
              "\n",
              "  .colab-df-spinner {\n",
              "    border: 2px solid var(--fill-color);\n",
              "    border-color: transparent;\n",
              "    border-bottom-color: var(--fill-color);\n",
              "    animation:\n",
              "      spin 1s steps(1) infinite;\n",
              "  }\n",
              "\n",
              "  @keyframes spin {\n",
              "    0% {\n",
              "      border-color: transparent;\n",
              "      border-bottom-color: var(--fill-color);\n",
              "      border-left-color: var(--fill-color);\n",
              "    }\n",
              "    20% {\n",
              "      border-color: transparent;\n",
              "      border-left-color: var(--fill-color);\n",
              "      border-top-color: var(--fill-color);\n",
              "    }\n",
              "    30% {\n",
              "      border-color: transparent;\n",
              "      border-left-color: var(--fill-color);\n",
              "      border-top-color: var(--fill-color);\n",
              "      border-right-color: var(--fill-color);\n",
              "    }\n",
              "    40% {\n",
              "      border-color: transparent;\n",
              "      border-right-color: var(--fill-color);\n",
              "      border-top-color: var(--fill-color);\n",
              "    }\n",
              "    60% {\n",
              "      border-color: transparent;\n",
              "      border-right-color: var(--fill-color);\n",
              "    }\n",
              "    80% {\n",
              "      border-color: transparent;\n",
              "      border-right-color: var(--fill-color);\n",
              "      border-bottom-color: var(--fill-color);\n",
              "    }\n",
              "    90% {\n",
              "      border-color: transparent;\n",
              "      border-bottom-color: var(--fill-color);\n",
              "    }\n",
              "  }\n",
              "</style>\n",
              "\n",
              "  <script>\n",
              "    async function quickchart(key) {\n",
              "      const quickchartButtonEl =\n",
              "        document.querySelector('#' + key + ' button');\n",
              "      quickchartButtonEl.disabled = true;  // To prevent multiple clicks.\n",
              "      quickchartButtonEl.classList.add('colab-df-spinner');\n",
              "      try {\n",
              "        const charts = await google.colab.kernel.invokeFunction(\n",
              "            'suggestCharts', [key], {});\n",
              "      } catch (error) {\n",
              "        console.error('Error during call to suggestCharts:', error);\n",
              "      }\n",
              "      quickchartButtonEl.classList.remove('colab-df-spinner');\n",
              "      quickchartButtonEl.classList.add('colab-df-quickchart-complete');\n",
              "    }\n",
              "    (() => {\n",
              "      let quickchartButtonEl =\n",
              "        document.querySelector('#df-301f0874-673e-4321-8141-2ec47e0253c5 button');\n",
              "      quickchartButtonEl.style.display =\n",
              "        google.colab.kernel.accessAllowed ? 'block' : 'none';\n",
              "    })();\n",
              "  </script>\n",
              "</div>\n",
              "    </div>\n",
              "  </div>\n"
            ]
          },
          "metadata": {},
          "execution_count": 6
        }
      ]
    },
    {
      "cell_type": "code",
      "source": [],
      "metadata": {
        "id": "r9RianG6pQB9"
      },
      "execution_count": 6,
      "outputs": []
    },
    {
      "cell_type": "markdown",
      "source": [
        "**# NEXT STEPS**"
      ],
      "metadata": {
        "id": "6x-pdr4tpxIx"
      }
    },
    {
      "cell_type": "markdown",
      "source": [
        "### Preprocessing"
      ],
      "metadata": {
        "id": "c3Jztg4ErlDX"
      }
    },
    {
      "cell_type": "markdown",
      "source": [
        "1. Split the dataset\n",
        "2. Create features (X) and target variable (y) depending on whether supervised or unsupervised\n",
        "3. Perform KNN imputation on numerical variables\n",
        "4. Data visualisation to see distibution of variables (e.g histogram)\n",
        "5. Remove outliers\n",
        "6. Derive new features for classification (depending on need, but I highly doubt there is any need :) )\n",
        "7. Create categorical features from discrete features(e.g Binning year etc)\n",
        "8. Normalize the data using StandardScaler\n",
        "9. Feature Reduction (e.g correlation, PCA). Most likely 'No Affected' and 'Total Affected' looks collinear; one will have to go :)\n",
        "10. Label encoding of features (very important if you want to perform classificiation using the Deep learning models)\n",
        "\n",
        "\n"
      ],
      "metadata": {
        "id": "lG1HAVkBpQQ2"
      }
    },
    {
      "cell_type": "code",
      "source": [],
      "metadata": {
        "id": "zZGbkmymt4pA"
      },
      "execution_count": 6,
      "outputs": []
    },
    {
      "cell_type": "markdown",
      "source": [
        "### Model Selection"
      ],
      "metadata": {
        "id": "6N2vkc2ipb5g"
      }
    },
    {
      "cell_type": "markdown",
      "source": [
        "We can do:\n",
        "1. Binary classifcation to predict: 'OFDA Response', 'Appeal'\tor 'Declaration' or anything other prefered binary classes.\n",
        "Objective of this is to determine if the country should be declared a state of emergency.\n",
        "Method: Perform classical simple Deep learning: MLP, XGboost, SVC and random forest.\n",
        "Compare classification scores to determine best model.\n",
        "\n",
        "2. Regression to predict Total Affected\n",
        "\n",
        "3. Clustering. KNN or any simple clustering model to group affected countried with maybe similar CPI etc\n"
      ],
      "metadata": {
        "id": "AYC8pCAgr3z3"
      }
    },
    {
      "cell_type": "code",
      "source": [],
      "metadata": {
        "id": "y6XE7KihsQY2"
      },
      "execution_count": 6,
      "outputs": []
    }
  ]
}